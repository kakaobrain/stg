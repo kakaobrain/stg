{
 "cells": [
  {
   "cell_type": "code",
   "execution_count": 1,
   "metadata": {},
   "outputs": [],
   "source": [
    "import json\n",
    "import numpy as np\n",
    "import os\n",
    "from glob import glob\n",
    "from nltk import word_tokenize\n",
    "import matplotlib.pyplot as plt\n",
    "import re\n",
    "from tqdm import tqdm\n",
    "import random"
   ]
  },
  {
   "cell_type": "code",
   "execution_count": 2,
   "metadata": {},
   "outputs": [],
   "source": [
    "include_nap = True"
   ]
  },
  {
   "cell_type": "markdown",
   "metadata": {},
   "source": [
    "## preprocess"
   ]
  },
  {
   "cell_type": "code",
   "execution_count": 3,
   "metadata": {},
   "outputs": [],
   "source": [
    "p = re.compile('^[.\\-_\\s)]')\n",
    "\n",
    "def text_preprocess(text):\n",
    "    while p.findall(text):\n",
    "        text = text[1:]\n",
    "    text = text.strip()\n",
    "    return text\n",
    "\n",
    "def load_data(fpath):\n",
    "    with open(fpath, 'r') as f:\n",
    "        data = json.load(f)\n",
    "    return data\n",
    "\n",
    "\n",
    "def data_preprocess(fpath, n_max=100000, include_nap=False, \n",
    "                    allow_answer_len = (4, 50), allow_passage_len = (24, 100)):\n",
    "    data = load_data(fpath)\n",
    "        \n",
    "    filtered_ids = []\n",
    "    filtered_passage = []\n",
    "    filtered_query = []\n",
    "    filtered_answer = []\n",
    "    all_ids = data['answers'].keys()\n",
    "    print(\"fpath:\", fpath)\n",
    "    print(\"n_data:\", len(all_ids))\n",
    "    \n",
    "    cnt = 0\n",
    "    for _id in tqdm(all_ids):\n",
    "        if cnt == n_max:\n",
    "            break\n",
    "        answer = data['answers'][_id]\n",
    "        \n",
    "        answer_exist = answer[0].lower() != 'No Answer Present.'.lower()\n",
    "        \n",
    "        has_uni_answer = len(answer) == 1\n",
    "        answer = word_tokenize(answer[0].lower())\n",
    "        length = len(answer)\n",
    "        allowed_len = length >= allow_answer_len[0] and length <= allow_answer_len[1]\n",
    "        \n",
    "\n",
    "        selected_passages = [item['passage_text'] for item in data['passages'][_id] if item['is_selected']]\n",
    "        \n",
    "        if not answer_exist and include_nap and random.random() > 0.5:\n",
    "            answer_exist = True\n",
    "            _idx = random.choice(range(len(data['passages'][_id])))\n",
    "            randomly_selected_passage = data['passages'][_id][_idx]['passage_text']\n",
    "            selected_passages = [randomly_selected_passage]\n",
    "        \n",
    "        allowed_len = allowed_len and len(selected_passages) == 1\n",
    "        \n",
    "        if allowed_len:\n",
    "            passage = word_tokenize(selected_passages[0].lower())\n",
    "            length = len(passage)\n",
    "            allowed_len = length >= allow_passage_len[0] and length <= allow_passage_len[1]\n",
    "\n",
    "            query = word_tokenize(data['query'][_id].lower())\n",
    "\n",
    "            if answer_exist and has_uni_answer and allowed_len:\n",
    "                filtered_ids.append(_id)\n",
    "                \n",
    "                passage = text_preprocess(' '.join(passage))\n",
    "                query = text_preprocess(' '.join(query))\n",
    "                answer = text_preprocess(' '.join(answer))\n",
    "                \n",
    "                filtered_passage.append(passage)\n",
    "                filtered_query.append(query)\n",
    "                filtered_answer.append(answer)\n",
    "                \n",
    "                cnt += 1\n",
    "                \n",
    "    new_data = []\n",
    "    for i in range(len(filtered_ids)):\n",
    "        obj = {\n",
    "            \"id\": filtered_ids[i],\n",
    "            \"passage\": filtered_passage[i],\n",
    "            'query': filtered_query[i],\n",
    "            'answer': filtered_answer[i]\n",
    "        }\n",
    "        new_data.append(obj) \n",
    "        \n",
    "    print(\"preprocessed n_data:\", len(new_data))\n",
    "    return new_data"
   ]
  },
  {
   "cell_type": "code",
   "execution_count": 5,
   "metadata": {},
   "outputs": [],
   "source": [
    "train_data = load_data('../sti_ddp2/qa/data/train_v2.1.json')\n",
    "valid_data = load_data('../sti_ddp2/qa/data/dev_v2.1.json')"
   ]
  },
  {
   "cell_type": "code",
   "execution_count": 6,
   "metadata": {},
   "outputs": [
    {
     "data": {
      "text/plain": [
       "(808731, 101093)"
      ]
     },
     "execution_count": 6,
     "metadata": {},
     "output_type": "execute_result"
    }
   ],
   "source": [
    "len(train_data['answers'].keys()),len(valid_data['answers'].keys())"
   ]
  },
  {
   "cell_type": "code",
   "execution_count": 8,
   "metadata": {},
   "outputs": [
    {
     "name": "stderr",
     "output_type": "stream",
     "text": [
      "  0%|          | 239/808731 [00:00<05:38, 2388.81it/s]"
     ]
    },
    {
     "name": "stdout",
     "output_type": "stream",
     "text": [
      "fpath: ../sti_ddp2/qa/data/train_v2.1.json\n",
      "n_data: 808731\n"
     ]
    },
    {
     "name": "stderr",
     "output_type": "stream",
     "text": [
      "  9%|▉         | 72418/808731 [00:25<04:15, 2876.90it/s]\n"
     ]
    },
    {
     "ename": "KeyboardInterrupt",
     "evalue": "",
     "output_type": "error",
     "traceback": [
      "\u001b[0;31m---------------------------------------------------------------------------\u001b[0m",
      "\u001b[0;31mKeyboardInterrupt\u001b[0m                         Traceback (most recent call last)",
      "\u001b[0;32m<ipython-input-8-614874925408>\u001b[0m in \u001b[0;36m<module>\u001b[0;34m\u001b[0m\n\u001b[1;32m      1\u001b[0m \u001b[0mfpath\u001b[0m \u001b[0;34m=\u001b[0m \u001b[0;34m'../sti_ddp2/qa/data/train_v2.1.json'\u001b[0m\u001b[0;34m\u001b[0m\u001b[0;34m\u001b[0m\u001b[0m\n\u001b[0;32m----> 2\u001b[0;31m \u001b[0mdata\u001b[0m \u001b[0;34m=\u001b[0m \u001b[0mdata_preprocess\u001b[0m\u001b[0;34m(\u001b[0m\u001b[0mfpath\u001b[0m\u001b[0;34m,\u001b[0m \u001b[0minclude_nap\u001b[0m\u001b[0;34m=\u001b[0m\u001b[0minclude_nap\u001b[0m\u001b[0;34m)\u001b[0m\u001b[0;34m\u001b[0m\u001b[0;34m\u001b[0m\u001b[0m\n\u001b[0m\u001b[1;32m      3\u001b[0m \u001b[0;34m\u001b[0m\u001b[0m\n\u001b[1;32m      4\u001b[0m \u001b[0mfname\u001b[0m \u001b[0;34m=\u001b[0m \u001b[0mos\u001b[0m\u001b[0;34m.\u001b[0m\u001b[0mpath\u001b[0m\u001b[0;34m.\u001b[0m\u001b[0mbasename\u001b[0m\u001b[0;34m(\u001b[0m\u001b[0mfpath\u001b[0m\u001b[0;34m)\u001b[0m\u001b[0;34m\u001b[0m\u001b[0;34m\u001b[0m\u001b[0m\n\u001b[1;32m      5\u001b[0m \u001b[0;32mif\u001b[0m \u001b[0minclude_nap\u001b[0m\u001b[0;34m:\u001b[0m\u001b[0;34m\u001b[0m\u001b[0;34m\u001b[0m\u001b[0m\n",
      "\u001b[0;32m<ipython-input-3-64ae8f798e7b>\u001b[0m in \u001b[0;36mdata_preprocess\u001b[0;34m(fpath, n_max, include_nap, allow_answer_len, allow_passage_len)\u001b[0m\n\u001b[1;32m     50\u001b[0m \u001b[0;34m\u001b[0m\u001b[0m\n\u001b[1;32m     51\u001b[0m         \u001b[0;32mif\u001b[0m \u001b[0mallowed_len\u001b[0m\u001b[0;34m:\u001b[0m\u001b[0;34m\u001b[0m\u001b[0;34m\u001b[0m\u001b[0m\n\u001b[0;32m---> 52\u001b[0;31m             \u001b[0mpassage\u001b[0m \u001b[0;34m=\u001b[0m \u001b[0mword_tokenize\u001b[0m\u001b[0;34m(\u001b[0m\u001b[0mselected_passages\u001b[0m\u001b[0;34m[\u001b[0m\u001b[0;36m0\u001b[0m\u001b[0;34m]\u001b[0m\u001b[0;34m.\u001b[0m\u001b[0mlower\u001b[0m\u001b[0;34m(\u001b[0m\u001b[0;34m)\u001b[0m\u001b[0;34m)\u001b[0m\u001b[0;34m\u001b[0m\u001b[0;34m\u001b[0m\u001b[0m\n\u001b[0m\u001b[1;32m     53\u001b[0m             \u001b[0mlength\u001b[0m \u001b[0;34m=\u001b[0m \u001b[0mlen\u001b[0m\u001b[0;34m(\u001b[0m\u001b[0mpassage\u001b[0m\u001b[0;34m)\u001b[0m\u001b[0;34m\u001b[0m\u001b[0;34m\u001b[0m\u001b[0m\n\u001b[1;32m     54\u001b[0m             \u001b[0mallowed_len\u001b[0m \u001b[0;34m=\u001b[0m \u001b[0mlength\u001b[0m \u001b[0;34m>=\u001b[0m \u001b[0mallow_passage_len\u001b[0m\u001b[0;34m[\u001b[0m\u001b[0;36m0\u001b[0m\u001b[0;34m]\u001b[0m \u001b[0;32mand\u001b[0m \u001b[0mlength\u001b[0m \u001b[0;34m<=\u001b[0m \u001b[0mallow_passage_len\u001b[0m\u001b[0;34m[\u001b[0m\u001b[0;36m1\u001b[0m\u001b[0;34m]\u001b[0m\u001b[0;34m\u001b[0m\u001b[0;34m\u001b[0m\u001b[0m\n",
      "\u001b[0;32m~/opt/anaconda3/envs/test/lib/python3.7/site-packages/nltk-3.5-py3.7.egg/nltk/tokenize/__init__.py\u001b[0m in \u001b[0;36mword_tokenize\u001b[0;34m(text, language, preserve_line)\u001b[0m\n\u001b[1;32m    129\u001b[0m     \u001b[0msentences\u001b[0m \u001b[0;34m=\u001b[0m \u001b[0;34m[\u001b[0m\u001b[0mtext\u001b[0m\u001b[0;34m]\u001b[0m \u001b[0;32mif\u001b[0m \u001b[0mpreserve_line\u001b[0m \u001b[0;32melse\u001b[0m \u001b[0msent_tokenize\u001b[0m\u001b[0;34m(\u001b[0m\u001b[0mtext\u001b[0m\u001b[0;34m,\u001b[0m \u001b[0mlanguage\u001b[0m\u001b[0;34m)\u001b[0m\u001b[0;34m\u001b[0m\u001b[0;34m\u001b[0m\u001b[0m\n\u001b[1;32m    130\u001b[0m     return [\n\u001b[0;32m--> 131\u001b[0;31m         \u001b[0mtoken\u001b[0m \u001b[0;32mfor\u001b[0m \u001b[0msent\u001b[0m \u001b[0;32min\u001b[0m \u001b[0msentences\u001b[0m \u001b[0;32mfor\u001b[0m \u001b[0mtoken\u001b[0m \u001b[0;32min\u001b[0m \u001b[0m_treebank_word_tokenizer\u001b[0m\u001b[0;34m.\u001b[0m\u001b[0mtokenize\u001b[0m\u001b[0;34m(\u001b[0m\u001b[0msent\u001b[0m\u001b[0;34m)\u001b[0m\u001b[0;34m\u001b[0m\u001b[0;34m\u001b[0m\u001b[0m\n\u001b[0m\u001b[1;32m    132\u001b[0m     ]\n",
      "\u001b[0;32m~/opt/anaconda3/envs/test/lib/python3.7/site-packages/nltk-3.5-py3.7.egg/nltk/tokenize/__init__.py\u001b[0m in \u001b[0;36m<listcomp>\u001b[0;34m(.0)\u001b[0m\n\u001b[1;32m    129\u001b[0m     \u001b[0msentences\u001b[0m \u001b[0;34m=\u001b[0m \u001b[0;34m[\u001b[0m\u001b[0mtext\u001b[0m\u001b[0;34m]\u001b[0m \u001b[0;32mif\u001b[0m \u001b[0mpreserve_line\u001b[0m \u001b[0;32melse\u001b[0m \u001b[0msent_tokenize\u001b[0m\u001b[0;34m(\u001b[0m\u001b[0mtext\u001b[0m\u001b[0;34m,\u001b[0m \u001b[0mlanguage\u001b[0m\u001b[0;34m)\u001b[0m\u001b[0;34m\u001b[0m\u001b[0;34m\u001b[0m\u001b[0m\n\u001b[1;32m    130\u001b[0m     return [\n\u001b[0;32m--> 131\u001b[0;31m         \u001b[0mtoken\u001b[0m \u001b[0;32mfor\u001b[0m \u001b[0msent\u001b[0m \u001b[0;32min\u001b[0m \u001b[0msentences\u001b[0m \u001b[0;32mfor\u001b[0m \u001b[0mtoken\u001b[0m \u001b[0;32min\u001b[0m \u001b[0m_treebank_word_tokenizer\u001b[0m\u001b[0;34m.\u001b[0m\u001b[0mtokenize\u001b[0m\u001b[0;34m(\u001b[0m\u001b[0msent\u001b[0m\u001b[0;34m)\u001b[0m\u001b[0;34m\u001b[0m\u001b[0;34m\u001b[0m\u001b[0m\n\u001b[0m\u001b[1;32m    132\u001b[0m     ]\n",
      "\u001b[0;32m~/opt/anaconda3/envs/test/lib/python3.7/site-packages/nltk-3.5-py3.7.egg/nltk/tokenize/destructive.py\u001b[0m in \u001b[0;36mtokenize\u001b[0;34m(self, text, convert_parentheses, return_str)\u001b[0m\n\u001b[1;32m    127\u001b[0m \u001b[0;34m\u001b[0m\u001b[0m\n\u001b[1;32m    128\u001b[0m         \u001b[0;32mfor\u001b[0m \u001b[0mregexp\u001b[0m\u001b[0;34m,\u001b[0m \u001b[0msubstitution\u001b[0m \u001b[0;32min\u001b[0m \u001b[0mself\u001b[0m\u001b[0;34m.\u001b[0m\u001b[0mENDING_QUOTES\u001b[0m\u001b[0;34m:\u001b[0m\u001b[0;34m\u001b[0m\u001b[0;34m\u001b[0m\u001b[0m\n\u001b[0;32m--> 129\u001b[0;31m             \u001b[0mtext\u001b[0m \u001b[0;34m=\u001b[0m \u001b[0mregexp\u001b[0m\u001b[0;34m.\u001b[0m\u001b[0msub\u001b[0m\u001b[0;34m(\u001b[0m\u001b[0msubstitution\u001b[0m\u001b[0;34m,\u001b[0m \u001b[0mtext\u001b[0m\u001b[0;34m)\u001b[0m\u001b[0;34m\u001b[0m\u001b[0;34m\u001b[0m\u001b[0m\n\u001b[0m\u001b[1;32m    130\u001b[0m \u001b[0;34m\u001b[0m\u001b[0m\n\u001b[1;32m    131\u001b[0m         \u001b[0;32mfor\u001b[0m \u001b[0mregexp\u001b[0m \u001b[0;32min\u001b[0m \u001b[0mself\u001b[0m\u001b[0;34m.\u001b[0m\u001b[0mCONTRACTIONS2\u001b[0m\u001b[0;34m:\u001b[0m\u001b[0;34m\u001b[0m\u001b[0;34m\u001b[0m\u001b[0m\n",
      "\u001b[0;31mKeyboardInterrupt\u001b[0m: "
     ]
    }
   ],
   "source": [
    "fpath = '../sti_ddp2/qa/data/train_v2.1.json'\n",
    "data = data_preprocess(fpath, include_nap=include_nap)\n",
    "\n",
    "fname = os.path.basename(fpath)\n",
    "if include_nap:\n",
    "    prefix = 'filtered_nap_'\n",
    "else:\n",
    "    prefix = 'filtered'\n",
    "    \n",
    "newfpath = os.path.join(os.path.dirname(fpath), prefix + fname)\n",
    "json.dump(data, open(newfpath, 'w'), indent=2, ensure_ascii = False)"
   ]
  },
  {
   "cell_type": "code",
   "execution_count": 18,
   "metadata": {},
   "outputs": [],
   "source": [
    "fpath = '../sti_ddp2/qa/data/dev_v2.1.json'\n",
    "data = data_preprocess(fpath, include_nap=include_nap)\n",
    "\n",
    "fname = os.path.basename(fpath)\n",
    "if include_nap:\n",
    "    prefix = 'filtered_nap_'\n",
    "else:\n",
    "    prefix = 'filtered'\n",
    "    \n",
    "newfpath = os.path.join(os.path.dirname(fpath), prefix + fname)\n",
    "json.dump(data, open(newfpath, 'w'), indent=2, ensure_ascii = False)"
   ]
  },
  {
   "cell_type": "markdown",
   "metadata": {},
   "source": [
    "## tokenizing & splitting"
   ]
  },
  {
   "cell_type": "code",
   "execution_count": 22,
   "metadata": {
    "scrolled": true
   },
   "outputs": [],
   "source": [
    "from transformers import AutoTokenizer\n",
    "tokenizer = AutoTokenizer.from_pretrained('gpt2-medium', local_files_only=True)\n",
    "special_tokens = {'sep_token':'<|sep|>'}\n",
    "tokenizer.add_special_tokens(special_tokens)\n",
    "\n",
    "def tokenize(data, ids):\n",
    "    new_data = []\n",
    "    for i in ids:\n",
    "        item = data[i]\n",
    "\n",
    "        passage = item['passage'].replace('\\u200b', '')\n",
    "        query = item['query'].replace('\\u200b', '')\n",
    "        answer = item['answer'].replace('\\u200b', '')\n",
    "        \n",
    "        new_item = {\n",
    "            'id': item['id'],\n",
    "            'passage': tokenizer.encode(passage),\n",
    "            'query': tokenizer.encode(query),\n",
    "            'answer': tokenizer.encode(answer),\n",
    "            'passage_text': passage,\n",
    "            'query_text': query,\n",
    "            'answer_text': answer\n",
    "        }\n",
    "        \n",
    "        new_data.append(new_item)\n",
    "    \n",
    "    return new_data"
   ]
  },
  {
   "cell_type": "code",
   "execution_count": 23,
   "metadata": {},
   "outputs": [],
   "source": [
    "n_train = 100\n",
    "n_valid = 500\n",
    "n_test = 20000\n",
    "seed = 1"
   ]
  },
  {
   "cell_type": "code",
   "execution_count": 26,
   "metadata": {},
   "outputs": [],
   "source": [
    "np.random.seed(seed)\n",
    "if include_nap:\n",
    "    output_dir = f'qa/data/nap'\n",
    "else:\n",
    "    output_dir = f'qa/data/wo_nap'\n",
    "\n",
    "os.makedirs(output_dir, exist_ok=True)\n",
    "data = load_data('../sti_ddp2/qa/data/filtered_nap_train_v2.1.json')\n",
    "ids = np.arange(len(data))\n",
    "np.random.shuffle(ids)\n",
    "\n",
    "train_ids = ids[:n_train]\n",
    "valid_ids = ids[n_train:n_train+n_valid]"
   ]
  },
  {
   "cell_type": "code",
   "execution_count": 27,
   "metadata": {},
   "outputs": [],
   "source": [
    "test_data = load_data('../sti_ddp2/qa/data/filtered_nap_dev_v2.1.json')\n",
    "ids = np.arange(len(test_data))\n",
    "np.random.shuffle(ids)\n",
    "\n",
    "test_ids = ids[:n_test]"
   ]
  },
  {
   "cell_type": "code",
   "execution_count": 28,
   "metadata": {},
   "outputs": [],
   "source": [
    "train_data = tokenize(data, train_ids)\n",
    "valid_data = tokenize(data, valid_ids)\n",
    "test_data = tokenize(test_data, test_ids)"
   ]
  },
  {
   "cell_type": "code",
   "execution_count": 29,
   "metadata": {},
   "outputs": [],
   "source": [
    "json.dump(train_data, open(os.path.join(output_dir, 'train.json'), 'w'), ensure_ascii = False)\n",
    "json.dump(valid_data, open(os.path.join(output_dir, 'valid.json'), 'w'), ensure_ascii = False)\n",
    "json.dump(test_data, open(os.path.join(output_dir, 'test.json'), 'w'), ensure_ascii = False)"
   ]
  },
  {
   "cell_type": "code",
   "execution_count": null,
   "metadata": {},
   "outputs": [],
   "source": []
  }
 ],
 "metadata": {
  "kernelspec": {
   "display_name": "test",
   "language": "python",
   "name": "test"
  },
  "language_info": {
   "codemirror_mode": {
    "name": "ipython",
    "version": 3
   },
   "file_extension": ".py",
   "mimetype": "text/x-python",
   "name": "python",
   "nbconvert_exporter": "python",
   "pygments_lexer": "ipython3",
   "version": "3.7.9"
  }
 },
 "nbformat": 4,
 "nbformat_minor": 4
}
